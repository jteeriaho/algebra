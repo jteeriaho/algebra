{
 "cells": [
  {
   "cell_type": "markdown",
   "id": "64e7986e",
   "metadata": {},
   "source": [
    "# Potenssien laskusäännöt"
   ]
  },
  {
   "cell_type": "markdown",
   "id": "1e1c9a40",
   "metadata": {},
   "source": [
    "## Potenssin määritelmä  \n",
    "\n",
    "\n",
    "```{important}\n",
    "$a^n = \\underset{n\\hspace{2mm} kpl} {a\\cdot a\\hspace{2mm}\\cdot \\hspace{2mm} ...\\hspace{2mm}\\cdot \\hspace{2mm}a}$\n",
    "```"
   ]
  },
  {
   "cell_type": "markdown",
   "id": "01f76da9",
   "metadata": {},
   "source": [
    "## Potenssien laskulakeja  \n",
    "\n",
    "### Samankantaisten potenssien tulo "
   ]
  },
  {
   "cell_type": "markdown",
   "id": "a3a94a53",
   "metadata": {},
   "source": [
    "```{tip}\n",
    "$x^n\\cdot x^m = x^{n+m}$\n",
    "```"
   ]
  },
  {
   "cell_type": "markdown",
   "id": "6d7802d0",
   "metadata": {},
   "source": [
    "```{admonition} Sievennä $ a^5\\cdot a^7$\n",
    ":class: toggle\n",
    "$ a^5\\cdot a^7 = a^{5+7}=a^{12}$\n",
    "```"
   ]
  },
  {
   "cell_type": "markdown",
   "id": "ea9cb2cd",
   "metadata": {},
   "source": [
    "### Samankantaisten potenssien osamäärä "
   ]
  },
  {
   "cell_type": "markdown",
   "id": "3313e9a7",
   "metadata": {},
   "source": [
    "```{tip}\n",
    "$\\frac {x^n}{x^m} = x^{n-m}$ \n",
    "```"
   ]
  },
  {
   "cell_type": "markdown",
   "id": "43ef5997",
   "metadata": {},
   "source": [
    "```{admonition} Sievennä $ \\frac{z^7}{z^3}$\n",
    ":class: toggle\n",
    "$ \\frac{z^7}{z^3} = z^{7-3}=z^4$\n",
    "```"
   ]
  },
  {
   "cell_type": "markdown",
   "id": "faaaac48",
   "metadata": {},
   "source": [
    "###  Potenssin korottaminen potenssiin"
   ]
  },
  {
   "cell_type": "markdown",
   "id": "c5b6d280",
   "metadata": {},
   "source": [
    "```{tip}\n",
    "$ (x^n)^{m} = x^{n m}$  \n",
    "```"
   ]
  },
  {
   "cell_type": "markdown",
   "id": "24840aa8",
   "metadata": {},
   "source": [
    "```{admonition} Sievennä $ (a^7)^{3}$\n",
    ":class: toggle\n",
    "$ (a^7)^{3}$ = $a^{7\\cdot 3}$ = $a^{21}$\n",
    "```"
   ]
  },
  {
   "cell_type": "markdown",
   "id": "5a77b10e",
   "metadata": {},
   "source": [
    "### Tulon korottaminen potenssiin"
   ]
  },
  {
   "cell_type": "markdown",
   "id": "09d67968",
   "metadata": {},
   "source": [
    "$ {(\\frac {z} {y})}^{2}$"
   ]
  },
  {
   "cell_type": "markdown",
   "id": "8cfdf3aa",
   "metadata": {},
   "source": [
    "```{tip}\n",
    "$ (x y)^{m} = x^n y^m$  \n",
    "```"
   ]
  },
  {
   "cell_type": "markdown",
   "id": "2b726e8c",
   "metadata": {},
   "source": [
    "```{admonition} Sievennä $ (a\\cdot b)^{3}$\n",
    ":class: toggle\n",
    "$ (a\\cdot b)^{3}$ = $a^3\\cdot b^3$ \n",
    "```"
   ]
  },
  {
   "cell_type": "markdown",
   "id": "8a9fb3b7",
   "metadata": {},
   "source": [
    "### Osamäärän korottaminen potenssiin"
   ]
  },
  {
   "cell_type": "markdown",
   "id": "7f3ad151",
   "metadata": {},
   "source": [
    "```{tip}\n",
    "$ {(\\frac {x} {y})}^{m} = \\frac {x^n} {y^m}$  \n",
    "```"
   ]
  },
  {
   "cell_type": "markdown",
   "id": "6ed9b898",
   "metadata": {},
   "source": [
    "```{admonition} Sievennä $ {(\\frac {z} {y})}^{2}$\n",
    ":class: toggle\n",
    "$ {(\\frac {z} {y})}^{2} = \\frac {z^2} {y^2}$ \n",
    "```"
   ]
  },
  {
   "cell_type": "markdown",
   "id": "575fce58",
   "metadata": {},
   "source": [
    "## Negatiivinen potessi"
   ]
  },
  {
   "cell_type": "markdown",
   "id": "71d94838",
   "metadata": {},
   "source": [
    "```{tip}\n",
    "$ x^{-n} = \\frac {1} {x^n}$  \n",
    "```"
   ]
  },
  {
   "cell_type": "markdown",
   "id": "d25d84b7",
   "metadata": {},
   "source": [
    "```{admonition} Sievennä $ {(\\frac {2}{3}}^{-3}$\n",
    ":class: toggle\n",
    "$ {(\\frac {2}{3})}^{-3} = {(\\frac {3}{2})}^{3}=\\frac {3 ^3}{2^3} =\\frac {27}{8}$ \n",
    "```"
   ]
  },
  {
   "cell_type": "markdown",
   "id": "aa22705b",
   "metadata": {},
   "source": [
    "## Monivalintatehtäviä potenssien laskusäännöistä"
   ]
  },
  {
   "cell_type": "code",
   "execution_count": null,
   "id": "923700f3",
   "metadata": {},
   "outputs": [],
   "source": [
    "from jupyterquiz import display_quiz\n",
    "\n",
    "display_quiz('mchoice1.json')"
   ]
  }
 ],
 "metadata": {
  "jupytext": {
   "cell_metadata_filter": "-all",
   "notebook_metadata_filter": "-all",
   "text_representation": {
    "extension": ".md",
    "format_name": "markdown"
   }
  },
  "kernelspec": {
   "display_name": "Python 3 (ipykernel)",
   "language": "python",
   "name": "python3"
  },
  "language_info": {
   "codemirror_mode": {
    "name": "ipython",
    "version": 3
   },
   "file_extension": ".py",
   "mimetype": "text/x-python",
   "name": "python",
   "nbconvert_exporter": "python",
   "pygments_lexer": "ipython3",
   "version": "3.9.7"
  }
 },
 "nbformat": 4,
 "nbformat_minor": 5
}
